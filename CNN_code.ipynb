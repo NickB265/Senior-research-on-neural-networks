{
 "cells": [
  {
   "cell_type": "code",
   "execution_count": 2,
   "metadata": {},
   "outputs": [],
   "source": [
    "import  os\n",
    "import numpy as np\n",
    "import matplotlib.pyplot as plt\n",
    "import pandas as pd\n",
    "from sklearn.neural_network import MLPClassifier\n",
    "from sklearn.model_selection import train_test_split\n",
    "from PIL import Image,ImageFilter,ImageOps\n",
    "from sklearn.metrics import accuracy_score, confusion_matrix\n",
    "import seaborn as sns"
   ]
  },
  {
   "cell_type": "code",
   "execution_count": 3,
   "metadata": {},
   "outputs": [
    {
     "name": "stdout",
     "output_type": "stream",
     "text": [
      "C:/Users/Nick's PC/Desktop/Pokemon/t1/\n",
      "['bulbasaur', 'dratini', 'machoke', 'marowak']\n"
     ]
    }
   ],
   "source": [
    "#import the image data from the directory file\n",
    "root_dir = \"C:/Users/Nick's PC/Desktop/Pokemon/t1/\"\n",
    "files = os.path.join(root_dir)\n",
    "print(files)\n",
    "file_names = os.listdir(files)\n",
    "\n",
    "\n",
    "print(file_names)"
   ]
  },
  {
   "cell_type": "code",
   "execution_count": 4,
   "metadata": {},
   "outputs": [
    {
     "name": "stdout",
     "output_type": "stream",
     "text": [
      "181\n"
     ]
    }
   ],
   "source": [
    "#loop to iterate through the image data from the selected testing group\n",
    "\n",
    "file_in = str()\n",
    "datas = []\n",
    "classes = []\n",
    "c = 1\n",
    "k = 0\n",
    "r = 0\n",
    "for file_name in file_names:\n",
    "    r = 0\n",
    "    file_in = os.path.join(root_dir, file_names[k])\n",
    "    \n",
    "    pics = os.listdir(file_in)\n",
    "    \n",
    "    #the loop converts the image into a NumPy array and flattens the array from 3d to 2d\n",
    "    for pic in pics:\n",
    "        state = os.path.join(file_in, pics[r])\n",
    "        image = Image.open(state)\n",
    "        temp = np.asarray(image)\n",
    "        temp = temp.flatten()\n",
    "        \n",
    "        #the NumPy array is saved to a list and assined a class which is saved in a diffrent list\n",
    "        datas.append(temp)\n",
    "        classes.append(c)\n",
    "        r +=1\n",
    "     \n",
    "    \n",
    "    k += 1\n",
    "    c += 1\n",
    "\n",
    "print(len(datas))\n",
    "#print(classes)"
   ]
  },
  {
   "cell_type": "code",
   "execution_count": 5,
   "metadata": {},
   "outputs": [],
   "source": [
    "q = 0\n",
    "new_data = []\n",
    "\n",
    "\n",
    "def normalize_2d(temp):\n",
    "    # Only this is changed to use 2-norm put 2 instead of 1\n",
    "    norm = np.linalg.norm(datas, 1)\n",
    "    # normalized matrix\n",
    "    temp = datas/norm  \n",
    "    temp = temp.flatten()\n",
    "    new_data.append(temp)\n",
    "    return new_data\n",
    "\n",
    "\n",
    "for data in datas:\n",
    "    temp = datas[q]\n",
    "    normalized_matrix = normalize_2d(temp)\n",
    "    q +=1\n",
    "    "
   ]
  },
  {
   "cell_type": "code",
   "execution_count": 6,
   "metadata": {},
   "outputs": [
    {
     "name": "stdout",
     "output_type": "stream",
     "text": [
      "181\n",
      "(1158400,)\n"
     ]
    }
   ],
   "source": [
    "print(len(new_data))\n",
    "print(new_data[1].shape)"
   ]
  },
  {
   "cell_type": "code",
   "execution_count": 7,
   "metadata": {},
   "outputs": [
    {
     "data": {
      "text/plain": [
       "MLPClassifier(alpha=1e-05, hidden_layer_sizes=(75, 20), random_state=1,\n",
       "              solver='lbfgs')"
      ]
     },
     "execution_count": 7,
     "metadata": {},
     "output_type": "execute_result"
    }
   ],
   "source": [
    "X = new_data\n",
    "y = classes\n",
    "X_train, X_test, y_train, y_test = train_test_split(X, y, test_size=0.33, random_state=99, stratify = y)\n",
    "clf = MLPClassifier(solver='lbfgs', alpha=1e-5, hidden_layer_sizes=(75, 20), random_state=1)\n",
    "clf.fit(X_train, y_train)\n",
    "MLPClassifier(alpha=1e-05, hidden_layer_sizes=(75, 20), random_state=1,solver='lbfgs')"
   ]
  },
  {
   "cell_type": "code",
   "execution_count": 8,
   "metadata": {},
   "outputs": [],
   "source": [
    "y_pred = clf.predict(X_test)"
   ]
  },
  {
   "cell_type": "code",
   "execution_count": 9,
   "metadata": {},
   "outputs": [
    {
     "name": "stdout",
     "output_type": "stream",
     "text": [
      "Accuracy: 0.31666666666666665\n"
     ]
    }
   ],
   "source": [
    "accuracy = accuracy_score(y_test, y_pred)\n",
    "print(\"Accuracy:\", accuracy)"
   ]
  },
  {
   "cell_type": "code",
   "execution_count": 10,
   "metadata": {},
   "outputs": [
    {
     "data": {
      "text/plain": [
       "Text(0.5, 1.0, 'Accuracy confusion matrix')"
      ]
     },
     "execution_count": 10,
     "metadata": {},
     "output_type": "execute_result"
    },
    {
     "data": {
      "image/png": "[encoded data removed]",
      "text/plain": [
       "<Figure size 648x648 with 2 Axes>"
      ]
     },
     "metadata": {
      "needs_background": "light"
     },
     "output_type": "display_data"
    }
   ],
   "source": [
    "cm = confusion_matrix(y_test,y_pred)\n",
    "plt.figure(figsize=(9,9))\n",
    "sns.heatmap(cm,annot=True, fmt='.3f', linewidths=.5, square=True,cmap='Blues_r')\n",
    "plt.ylabel('Actual class')\n",
    "plt.xlabel('Predicted class')\n",
    "plt.title('Accuracy confusion matrix',size=15)"
   ]
  },
  {
   "cell_type": "code",
   "execution_count": null,
   "metadata": {},
   "outputs": [],
   "source": []
  },
  {
   "cell_type": "code",
   "execution_count": null,
   "metadata": {},
   "outputs": [],
   "source": []
  }
 ],
 "metadata": {
  "kernelspec": {
   "display_name": "Python 3",
   "language": "python",
   "name": "python3"
  },
  "language_info": {
   "codemirror_mode": {
    "name": "ipython",
    "version": 3
   },
   "file_extension": ".py",
   "mimetype": "text/x-python",
   "name": "python",
   "nbconvert_exporter": "python",
   "pygments_lexer": "ipython3",
   "version": "3.8.5"
  }
 },
 "nbformat": 4,
 "nbformat_minor": 4
}
