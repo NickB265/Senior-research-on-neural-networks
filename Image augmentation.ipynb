{
 "cells": [
  {
   "cell_type": "code",
   "execution_count": 2,
   "metadata": {},
   "outputs": [],
   "source": [
    "import os\n",
    "import numpy as np\n",
    "import pandas as pd\n",
    "from numpy import asarray\n",
    "from os import listdir\n",
    "from PIL import Image,ImageFilter,ImageOps\n"
   ]
  },
  {
   "cell_type": "code",
   "execution_count": 42,
   "metadata": {},
   "outputs": [
    {
     "name": "stdout",
     "output_type": "stream",
     "text": [
      "C:/Users/Nick's PC/Desktop/Pokemon/t2/marowak\n",
      "['marowak_gen1_bw_1.png', 'marowak_gen1_bw_2.png', 'marowak_gen1_bw_3.png', 'marowak_gen1_color_1.png', 'marowak_gen1_color_2.png', 'marowak_gen1_color_3.png', 'marowak_gen1_color_4.png', 'marowak_gen2_color_1.png', 'marowak_gen2_color_2.png', 'marowak_gen2_color_3.png', 'marowak_gen2_color_4.png', 'marowak_gen2_color_5.png', 'marowak_gen2_shiny_1.png', 'marowak_gen2_shiny_2.png', 'marowak_gen2_shiny_3.png', 'marowak_gen2_shiny_4.png', 'marowak_gen2_shiny_5.png', 'marowak_gen3_color_1.png', 'marowak_gen3_color_2.png', 'marowak_gen3_color_3.png', 'marowak_gen3_color_4.png', 'marowak_gen3_shiny_1.png', 'marowak_gen3_shiny_2.png', 'marowak_gen3_shiny_3.png', 'marowak_gen3_shiny_4.png', 'marowak_gen4_color_1.png', 'marowak_gen4_color_2.png', 'marowak_gen4_color_3.png', 'marowak_gen4_shiny_1.png', 'marowak_gen4_shiny_2.png', 'marowak_gen4_shiny_3.png', 'marowak_gen5_color_1.png', 'marowak_gen5_color_2.png', 'marowak_gen5_shiny_1.png', 'marowak_gen5_shiny_2.png', 'marowak_gen6_color_1.png', 'marowak_gen6_color_2.png', 'marowak_gen6_color_3.png', 'marowak_gen6_color_4.png', 'marowak_gen6_color_5.png', 'marowak_gen6_shiny_1.png', 'marowak_gen6_shiny_2.png', 'marowak_gen6_shiny_3.png', 'marowak_gen6_shiny_4.png', 'marowak_gen6_shiny_5.png', 'marowak_gen7_color_1.png', 'marowak_gen7_color_2.png', 'marowak_gen7_color_3.png', 'marowak_gen7_color_4.png', 'marowak_gen7_shiny_1.png', 'marowak_gen7_shiny_2.png', 'marowak_gen8_color_1.png', 'marowak_gen8_color_2.png', 'marowak_gen8_color_3.png', 'marowak_gen8_color_4.png', 'marowak_gen8_color_5.png', 'marowak_gen8_shiny_1.png', 'marowak_gen8_shiny_2.png']\n"
     ]
    }
   ],
   "source": [
    "root_dir = \"C:/Users/Nick's PC/Desktop/Pokemon/t2/marowak\"\n",
    "files = os.path.join(root_dir)\n",
    "print(files)\n",
    "file_names = os.listdir(files)\n",
    "\n",
    "\n",
    "print(file_names)"
   ]
  },
  {
   "cell_type": "code",
   "execution_count": 43,
   "metadata": {},
   "outputs": [],
   "source": [
    "#loop to change the images in the testing data folder to an 80,80 size and to gray scale \n",
    "\n",
    "def image_rotate(theta, k,image):\n",
    "    p = 0\n",
    "    while p <= 3:\n",
    "        img_rotated = image.rotate(angle=theta)\n",
    "        theta = theta + 90\n",
    "        n = str(p)\n",
    "        img_rotated.save(state + n +\"image_rotated.png\")\n",
    "        p += 1\n",
    "    \n",
    "    \n",
    "def image_flip(image):\n",
    "    flipped_img = ImageOps.flip(image)\n",
    "    flipped_img.save(state + \"image_fliped.png\")\n",
    "    \n",
    "def image_mir(image):\n",
    "    mir_image = ImageOps.mirror(image)\n",
    "    mir_image.save(state + \"image_mir.png\")\n",
    "    \n",
    "k = 0\n",
    "for file_name in file_names:\n",
    "\n",
    "    \n",
    "    state = os.path.join(root_dir, file_names[k])\n",
    "    image = Image.open(state)\n",
    "    image = image.resize((80, 80))\n",
    "    image = ImageOps.grayscale(image)\n",
    "    \n",
    "    image_rotate(90, state, image)\n",
    "    image_flip(image)\n",
    "    image_mir(image)\n",
    "    #print('Image size of' , state, 'is:', image.size)\n",
    "    \n",
    "    image.save(state)\n",
    "    k = k +1"
   ]
  },
  {
   "cell_type": "code",
   "execution_count": 39,
   "metadata": {},
   "outputs": [],
   "source": [
    "#functions for future work\n",
    "#getting the important parts of a picture then croping out everthiong else\n",
    "#print(imgs.getbbox())\n",
    "#def for file in files\n",
    "#imgs = new_img.crop(new_img.getbbox())\n",
    "#imgs.size\n",
    "#######"
   ]
  },
  {
   "cell_type": "code",
   "execution_count": null,
   "metadata": {},
   "outputs": [],
   "source": []
  }
 ],
 "metadata": {
  "kernelspec": {
   "display_name": "Python 3",
   "language": "python",
   "name": "python3"
  },
  "language_info": {
   "codemirror_mode": {
    "name": "ipython",
    "version": 3
   },
   "file_extension": ".py",
   "mimetype": "text/x-python",
   "name": "python",
   "nbconvert_exporter": "python",
   "pygments_lexer": "ipython3",
   "version": "3.8.5"
  }
 },
 "nbformat": 4,
 "nbformat_minor": 4
}
