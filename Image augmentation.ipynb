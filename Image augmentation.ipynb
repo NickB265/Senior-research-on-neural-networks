{
 "cells": [
  {
   "cell_type": "code",
   "execution_count": null,
   "metadata": {},
   "outputs": [],
   "source": [
    "import os\n",
    "import numpy as np\n",
    "import pandas as pd\n",
    "from numpy import asarray\n",
    "from os import listdir\n",
    "from PIL import Image,ImageFilter,ImageOps\n"
   ]
  },
  {
   "cell_type": "code",
   "execution_count": null,
   "metadata": {},
   "outputs": [],
   "source": [
    "root_dir = \"C:/Users/Nick's PC/Desktop/Pokemon/t1/marowak/\"\n",
    "files = os.path.join(root_dir)\n",
    "print(files)\n",
    "file_names = os.listdir(files)\n",
    "\n",
    "\n",
    "print(file_names)"
   ]
  },
  {
   "cell_type": "code",
   "execution_count": null,
   "metadata": {},
   "outputs": [],
   "source": [
    "#loop to change the images in the testing data folder to an 80,80 size and to gray scale \n",
    "k = 0\n",
    "for file_name in file_names:\n",
    "\n",
    "    \n",
    "    state = os.path.join(root_dir, file_names[k])\n",
    "    image = Image.open(state)\n",
    "    image = image.resize((80, 80))\n",
    "    image = ImageOps.grayscale(image)\n",
    "    \n",
    "    print('Image size of' , state, 'is:', image.size)\n",
    "    \n",
    "    image.save(state)\n",
    "    k = k +1"
   ]
  },
  {
   "cell_type": "code",
   "execution_count": null,
   "metadata": {},
   "outputs": [],
   "source": [
    "#functions for future work\n",
    "#getting the important parts of a picture then croping out everthiong else\n",
    "#print(imgs.getbbox())\n",
    "#def for file in files\n",
    "#imgs = new_img.crop(new_img.getbbox())\n",
    "#imgs.size\n",
    "#######\n",
    "#rotating an image\n",
    "#theta = 300\n",
    "#theta is the degrees the image changes\n",
    "#img_rotated = imgs.rotate(angle=theta)\n",
    "#img_rotated.show()\n",
    "#######"
   ]
  }
 ],
 "metadata": {
  "kernelspec": {
   "display_name": "Python 3",
   "language": "python",
   "name": "python3"
  },
  "language_info": {
   "codemirror_mode": {
    "name": "ipython",
    "version": 3
   },
   "file_extension": ".py",
   "mimetype": "text/x-python",
   "name": "python",
   "nbconvert_exporter": "python",
   "pygments_lexer": "ipython3",
   "version": "3.8.5"
  }
 },
 "nbformat": 4,
 "nbformat_minor": 4
}
