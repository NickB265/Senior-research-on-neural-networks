{
 "cells": [
  {
   "cell_type": "code",
   "execution_count": 2,
   "metadata": {},
   "outputs": [],
   "source": [
    "import numpy as np\n",
    "import matplotlib.pyplot as plt\n",
    "import cv2\n",
    "import os\n",
    "import pandas as pd\n",
    "import seaborn as sns\n",
    "from itertools import product\n",
    "from sklearn.neighbors import KNeighborsClassifier, kneighbors_graph\n",
    "from sklearn.model_selection import train_test_split\n",
    "from sklearn.metrics import accuracy_score, confusion_matrix\n",
    "from imutils import paths\n",
    "from PIL import Image,ImageFilter,ImageOps\n"
   ]
  },
  {
   "cell_type": "code",
   "execution_count": 3,
   "metadata": {},
   "outputs": [
    {
     "name": "stdout",
     "output_type": "stream",
     "text": [
      "C:/Users/Nick's PC/Desktop/Pokemon/t1/\n",
      "['bulbasaur', 'dratini', 'machoke', 'marowak']\n"
     ]
    }
   ],
   "source": [
    "root_dir = \"C:/Users/Nick's PC/Desktop/Pokemon/t1/\"\n",
    "files = os.path.join(root_dir)\n",
    "print(files)\n",
    "file_names = os.listdir(files)\n",
    "\n",
    "\n",
    "print(file_names)\n"
   ]
  },
  {
   "cell_type": "code",
   "execution_count": 4,
   "metadata": {
    "scrolled": false
   },
   "outputs": [
    {
     "name": "stdout",
     "output_type": "stream",
     "text": [
      "182\n",
      "[1, 1, 1, 1, 1, 1, 1, 1, 1, 1, 1, 1, 1, 1, 1, 1, 1, 1, 1, 1, 1, 1, 1, 1, 1, 1, 1, 1, 1, 1, 1, 1, 1, 1, 1, 1, 1, 1, 2, 2, 2, 2, 2, 2, 2, 2, 2, 2, 2, 2, 2, 2, 2, 2, 2, 2, 2, 2, 2, 2, 2, 2, 2, 2, 2, 2, 2, 2, 2, 2, 2, 2, 2, 2, 2, 2, 2, 2, 2, 3, 3, 3, 3, 3, 3, 3, 3, 3, 3, 3, 3, 3, 3, 3, 3, 3, 3, 3, 3, 3, 3, 3, 3, 3, 3, 3, 3, 3, 3, 3, 3, 3, 3, 3, 3, 3, 3, 3, 3, 3, 3, 3, 3, 3, 4, 4, 4, 4, 4, 4, 4, 4, 4, 4, 4, 4, 4, 4, 4, 4, 4, 4, 4, 4, 4, 4, 4, 4, 4, 4, 4, 4, 4, 4, 4, 4, 4, 4, 4, 4, 4, 4, 4, 4, 4, 4, 4, 4, 4, 4, 4, 4, 4, 4, 4, 4, 4, 4, 4, 4, 4, 4]\n"
     ]
    }
   ],
   "source": [
    "file_in = str()\n",
    "datas = []\n",
    "classes = []\n",
    "c = 1\n",
    "k = 0\n",
    "r = 0\n",
    "for file_name in file_names:\n",
    "    r = 0\n",
    "    file_in = os.path.join(root_dir, file_names[k])\n",
    "    #print(file_in)\n",
    "    pics = os.listdir(file_in)\n",
    "    #print('these are pics' , pics)\n",
    "    for pic in pics:\n",
    "        state = os.path.join(file_in, pics[r])\n",
    "        image = Image.open(state)\n",
    "        temp = np.asarray(image)\n",
    "        temp = temp.flatten()\n",
    "        \n",
    "        datas.append(temp)\n",
    "        classes.append(c)\n",
    "        r +=1\n",
    "     \n",
    "    \n",
    "    k += 1\n",
    "    c += 1\n",
    "\n",
    "print(len(datas))\n",
    "print(classes)"
   ]
  },
  {
   "cell_type": "code",
   "execution_count": 5,
   "metadata": {},
   "outputs": [
    {
     "name": "stdout",
     "output_type": "stream",
     "text": [
      "for pic: 0 (6400,)\n",
      "for pic: 1 (6400,)\n",
      "for pic: 2 (6400,)\n",
      "for pic: 3 (6400,)\n",
      "for pic: 4 (6400,)\n",
      "for pic: 5 (6400,)\n",
      "for pic: 6 (6400,)\n",
      "for pic: 7 (6400,)\n",
      "for pic: 8 (6400,)\n",
      "for pic: 9 (6400,)\n",
      "for pic: 10 (6400,)\n",
      "for pic: 11 (6400,)\n",
      "for pic: 12 (6400,)\n",
      "for pic: 13 (6400,)\n",
      "for pic: 14 (6400,)\n",
      "for pic: 15 (6400,)\n",
      "for pic: 16 (6400,)\n",
      "for pic: 17 (6400,)\n",
      "for pic: 18 (6400,)\n",
      "for pic: 19 (6400,)\n",
      "for pic: 20 (6400,)\n",
      "for pic: 21 (6400,)\n",
      "for pic: 22 (6400,)\n",
      "for pic: 23 (6400,)\n",
      "for pic: 24 (6400,)\n",
      "for pic: 25 (6400,)\n",
      "for pic: 26 (6400,)\n",
      "for pic: 27 (6400,)\n",
      "for pic: 28 (6400,)\n",
      "for pic: 29 (6400,)\n",
      "for pic: 30 (6400,)\n",
      "for pic: 31 (6400,)\n",
      "for pic: 32 (6400,)\n",
      "for pic: 33 (6400,)\n",
      "for pic: 34 (6400,)\n",
      "for pic: 35 (6400,)\n",
      "for pic: 36 (6400,)\n",
      "for pic: 37 (6400,)\n",
      "for pic: 38 (6400,)\n",
      "for pic: 39 (6400,)\n",
      "for pic: 40 (6400,)\n",
      "for pic: 41 (6400,)\n",
      "for pic: 42 (6400,)\n",
      "for pic: 43 (6400,)\n",
      "for pic: 44 (6400,)\n",
      "for pic: 45 (6400,)\n",
      "for pic: 46 (6400,)\n",
      "for pic: 47 (6400,)\n",
      "for pic: 48 (6400,)\n",
      "for pic: 49 (6400,)\n",
      "for pic: 50 (6400,)\n",
      "for pic: 51 (6400,)\n",
      "for pic: 52 (6400,)\n",
      "for pic: 53 (6400,)\n",
      "for pic: 54 (6400,)\n",
      "for pic: 55 (6400,)\n",
      "for pic: 56 (6400,)\n",
      "for pic: 57 (6400,)\n",
      "for pic: 58 (6400,)\n",
      "for pic: 59 (6400,)\n",
      "for pic: 60 (6400,)\n",
      "for pic: 61 (6400,)\n",
      "for pic: 62 (6400,)\n",
      "for pic: 63 (6400,)\n",
      "for pic: 64 (6400,)\n",
      "for pic: 65 (6400,)\n",
      "for pic: 66 (6400,)\n",
      "for pic: 67 (6400,)\n",
      "for pic: 68 (6400,)\n",
      "for pic: 69 (6400,)\n",
      "for pic: 70 (6400,)\n",
      "for pic: 71 (6400,)\n",
      "for pic: 72 (6400,)\n",
      "for pic: 73 (6400,)\n",
      "for pic: 74 (6400,)\n",
      "for pic: 75 (6400,)\n",
      "for pic: 76 (6400,)\n",
      "for pic: 77 (6400,)\n",
      "for pic: 78 (6400,)\n",
      "for pic: 79 (6400,)\n",
      "for pic: 80 (6400,)\n",
      "for pic: 81 (6400,)\n",
      "for pic: 82 (6400,)\n",
      "for pic: 83 (6400,)\n",
      "for pic: 84 (6400,)\n",
      "for pic: 85 (6400,)\n",
      "for pic: 86 (6400,)\n",
      "for pic: 87 (6400,)\n",
      "for pic: 88 (6400,)\n",
      "for pic: 89 (6400,)\n",
      "for pic: 90 (6400,)\n",
      "for pic: 91 (6400,)\n",
      "for pic: 92 (6400,)\n",
      "for pic: 93 (6400,)\n",
      "for pic: 94 (6400,)\n",
      "for pic: 95 (6400,)\n",
      "for pic: 96 (6400,)\n",
      "for pic: 97 (6400,)\n",
      "for pic: 98 (6400,)\n",
      "for pic: 99 (6400,)\n",
      "for pic: 100 (6400,)\n",
      "for pic: 101 (6400,)\n",
      "for pic: 102 (6400,)\n",
      "for pic: 103 (6400,)\n",
      "for pic: 104 (6400,)\n",
      "for pic: 105 (6400,)\n",
      "for pic: 106 (6400,)\n",
      "for pic: 107 (6400,)\n",
      "for pic: 108 (6400,)\n",
      "for pic: 109 (6400,)\n",
      "for pic: 110 (6400,)\n",
      "for pic: 111 (6400,)\n",
      "for pic: 112 (6400,)\n",
      "for pic: 113 (6400,)\n",
      "for pic: 114 (6400,)\n",
      "for pic: 115 (6400,)\n",
      "for pic: 116 (6400,)\n",
      "for pic: 117 (6400,)\n",
      "for pic: 118 (6400,)\n",
      "for pic: 119 (6400,)\n",
      "for pic: 120 (6400,)\n",
      "for pic: 121 (6400,)\n",
      "for pic: 122 (6400,)\n",
      "for pic: 123 (6400,)\n",
      "for pic: 124 (6400,)\n",
      "for pic: 125 (6400,)\n",
      "for pic: 126 (6400,)\n",
      "for pic: 127 (6400,)\n",
      "for pic: 128 (6400,)\n",
      "for pic: 129 (6400,)\n",
      "for pic: 130 (6400,)\n",
      "for pic: 131 (6400,)\n",
      "for pic: 132 (6400,)\n",
      "for pic: 133 (6400,)\n",
      "for pic: 134 (6400,)\n",
      "for pic: 135 (6400,)\n",
      "for pic: 136 (6400,)\n",
      "for pic: 137 (6400,)\n",
      "for pic: 138 (6400,)\n",
      "for pic: 139 (6400,)\n",
      "for pic: 140 (6400,)\n",
      "for pic: 141 (6400,)\n",
      "for pic: 142 (6400,)\n",
      "for pic: 143 (6400,)\n",
      "for pic: 144 (6400,)\n",
      "for pic: 145 (6400,)\n",
      "for pic: 146 (6400,)\n",
      "for pic: 147 (6400,)\n",
      "for pic: 148 (6400,)\n",
      "for pic: 149 (6400,)\n",
      "for pic: 150 (6400,)\n",
      "for pic: 151 (6400,)\n",
      "for pic: 152 (6400,)\n",
      "for pic: 153 (6400,)\n",
      "for pic: 154 (6400,)\n",
      "for pic: 155 (6400,)\n",
      "for pic: 156 (6400,)\n",
      "for pic: 157 (6400,)\n",
      "for pic: 158 (6400,)\n",
      "for pic: 159 (6400,)\n",
      "for pic: 160 (6400,)\n",
      "for pic: 161 (6400,)\n",
      "for pic: 162 (6400,)\n",
      "for pic: 163 (6400,)\n",
      "for pic: 164 (6400,)\n",
      "for pic: 165 (6400,)\n",
      "for pic: 166 (6400,)\n",
      "for pic: 167 (6400,)\n",
      "for pic: 168 (6400,)\n",
      "for pic: 169 (6400,)\n",
      "for pic: 170 (6400,)\n",
      "for pic: 171 (6400,)\n",
      "for pic: 172 (6400,)\n",
      "for pic: 173 (6400,)\n",
      "for pic: 174 (6400,)\n",
      "for pic: 175 (6400,)\n",
      "for pic: 176 (6400,)\n",
      "for pic: 177 (6400,)\n",
      "for pic: 178 (6400,)\n",
      "for pic: 179 (6400,)\n",
      "for pic: 180 (6400,)\n",
      "for pic: 181 (6400,)\n"
     ]
    }
   ],
   "source": [
    "k = 0\n",
    "for data in datas:\n",
    "    print('for pic:' , k , datas[k].shape)\n",
    "    k += 1"
   ]
  },
  {
   "cell_type": "code",
   "execution_count": 6,
   "metadata": {},
   "outputs": [],
   "source": [
    "X = datas\n",
    "y = classes\n",
    "\n",
    "\n",
    "X_train, X_test, y_train, y_test = train_test_split(X, y, test_size=0.33, random_state=99, stratify = y)\n",
    "knn = KNeighborsClassifier(n_neighbors=1, metric='euclidean')\n",
    "knn.fit(X_train, y_train)\n",
    "y_pred = knn.predict(X_test)"
   ]
  },
  {
   "cell_type": "code",
   "execution_count": 7,
   "metadata": {},
   "outputs": [
    {
     "name": "stdout",
     "output_type": "stream",
     "text": [
      "[3 4 4 2 3 4 2 2 4 2 3 3 4 2 2 4 2 3 2 1 3 1 4 3 1 3 1 2 4 1 1 1 1 4 1 1 4\n",
      " 3 3 1 1 4 1 1 4 1 1 2 2 1 1 3 2 3 3 3 1 1 4 3 4]\n"
     ]
    }
   ],
   "source": [
    "print(y_pred)"
   ]
  },
  {
   "cell_type": "code",
   "execution_count": 8,
   "metadata": {},
   "outputs": [
    {
     "name": "stdout",
     "output_type": "stream",
     "text": [
      "Accuracy: 0.8524590163934426\n"
     ]
    }
   ],
   "source": [
    "accuracy = accuracy_score(y_test, y_pred)\n",
    "print(\"Accuracy:\", accuracy)"
   ]
  },
  {
   "cell_type": "code",
   "execution_count": 9,
   "metadata": {
    "scrolled": false
   },
   "outputs": [
    {
     "data": {
      "text/plain": [
       "Text(0.5, 1.0, 'Accuracy confusion matrix')"
      ]
     },
     "execution_count": 9,
     "metadata": {},
     "output_type": "execute_result"
    },
    {
     "data": {
      "image/png": "[encoded data removed]",
      "text/plain": [
       "<Figure size 648x648 with 2 Axes>"
      ]
     },
     "metadata": {
      "needs_background": "light"
     },
     "output_type": "display_data"
    }
   ],
   "source": [
    "cm = confusion_matrix(y_test,y_pred)\n",
    "plt.figure(figsize=(9,9))\n",
    "sns.heatmap(cm,annot=True, fmt='.3f', linewidths=.5, square=True,cmap='Blues_r')\n",
    "plt.ylabel('Actual class')\n",
    "plt.xlabel('Predicted class')\n",
    "plt.title('Accuracy confusion matrix',size=15)"
   ]
  },
  {
   "cell_type": "code",
   "execution_count": 10,
   "metadata": {},
   "outputs": [],
   "source": [
    "k_values = [i for i in range (1,31)]\n",
    "scores = []\n",
    "for k in k_values:\n",
    "    knn = KNeighborsClassifier(n_neighbors=k)\n",
    "    knn.fit(X_train, y_train)\n",
    "    y_pred = knn.predict(X_test)\n",
    "    accuracy = accuracy_score(y_test, y_pred)\n",
    "    scores.append(accuracy)\n",
    "    "
   ]
  },
  {
   "cell_type": "code",
   "execution_count": 11,
   "metadata": {},
   "outputs": [
    {
     "data": {
      "text/plain": [
       "Text(0.5, 1.0, 'Total K accuracys')"
      ]
     },
     "execution_count": 11,
     "metadata": {},
     "output_type": "execute_result"
    },
    {
     "data": {
      "image/png": "[encoded data removed]",
      "text/plain": [
       "<Figure size 432x288 with 1 Axes>"
      ]
     },
     "metadata": {
      "needs_background": "light"
     },
     "output_type": "display_data"
    }
   ],
   "source": [
    "sns.lineplot(x = k_values, y = scores, marker = 'o')\n",
    "plt.xlabel(\"K Values\")\n",
    "plt.ylabel(\"Accuracy Score\")\n",
    "plt.title('Total K accuracys')"
   ]
  },
  {
   "cell_type": "code",
   "execution_count": null,
   "metadata": {},
   "outputs": [],
   "source": []
  }
 ],
 "metadata": {
  "kernelspec": {
   "display_name": "Python 3",
   "language": "python",
   "name": "python3"
  },
  "language_info": {
   "codemirror_mode": {
    "name": "ipython",
    "version": 3
   },
   "file_extension": ".py",
   "mimetype": "text/x-python",
   "name": "python",
   "nbconvert_exporter": "python",
   "pygments_lexer": "ipython3",
   "version": "3.8.5"
  }
 },
 "nbformat": 4,
 "nbformat_minor": 4
}
